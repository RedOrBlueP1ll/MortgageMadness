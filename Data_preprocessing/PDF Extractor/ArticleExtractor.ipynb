{
 "cells": [
  {
   "cell_type": "code",
   "execution_count": 195,
   "id": "4d0b7f85-d3ad-4340-93d2-51cddc597f4d",
   "metadata": {},
   "outputs": [],
   "source": [
    "#import tika\n",
    "import nltk.data\n",
    "import re\n",
    "from tika import parser  \n",
    "\n",
    "def createArticleDict(file):\n",
    "    raw = parser.from_file(file)\n",
    "    data = raw['content']\n",
    "    pattern = 'Artikel \\d+'\n",
    "    articles = re.findall(pattern, data) \n",
    "    splitArticles = re.split(pattern, data)\n",
    "    articles = list(dict.fromkeys(articles))\n",
    "    numArticles = len(articles)\n",
    "    articleDict = {}\n",
    "    for article in articles:\n",
    "        articleDict[article] = splitArticles[numArticles+(articles.index(article))+1] #the first half of the \"Articles\" always come from the content page and the first part of the split data comes before the fis occurence of the term \"Artikel\" so we leave it out. \n",
    "        re.sub(r\"[^a-zA-Z0-9 ]\", \"\", articleDict[article])\n",
    "        tokenizer = nltk.data.load('tokenizers/punkt/english.pickle')\n",
    "        articleDict[article] = tokenizer.tokenize(articleDict[article])"
   ]
  },
  {
   "cell_type": "code",
   "execution_count": 196,
   "id": "d0c9f406-eb4d-45f9-8b55-e7f46aca97cf",
   "metadata": {},
   "outputs": [
    {
     "name": "stdout",
     "output_type": "stream",
     "text": [
      "['  Definities\\n\\nIn de hypotheekakte en in dit hoofdstuk gebruiken we bepaalde termen.', 'Hier leggen we uit wat \\n\\nwij ermee bedoelen.', 'Obvion:\\n\\nObvion N.V., de geldgever die de gelden verstrekt voor uw hypothecaire geldlening en de \\n\\nrechtsopvolgers van Obvion N.V.\\n\\nGeldnemer, u:\\n\\nDe persoon of personen die de hypothecaire geldlening aangaan en op wie Obvion een of \\n\\nmeerdere vorderingen heeft.', 'Met “u” wordt in deze voorwaarden steeds de geldnemer bedoeld.', 'Zijn dat meer personen?', 'Dan bedoelen we hiermee ook: - iedere persoon apart; en - alle \\n\\npersonen samen.', 'Hypotheekgever:\\n\\nDe persoon of personen die aan Obvion zekerheid geven of hebben gegeven voor de schuld uit \\n\\nde hypothecaire geldlening.', 'Deze zekerheid kan een recht van hypotheek of een pandrecht \\n\\nzijn.', 'Zijn het meer personen?', 'Dan bedoelen we hiermee ook: - iedere persoon apart; en - alle \\n\\npersonen samen.', 'Derde-hypotheekgever:\\n\\nIemand anders dan de geldnemer, die recht van hypotheek op zijn onderpand heeft verleend \\n\\naan Obvion.', 'Hiermee heeft Obvion extra zekerheid voor de betaling van alles dat Obvion van \\n\\nde geldnemer te vorderen heeft.', 'Hypotheekhouder:\\n\\nObvion.', 'De hypotheekgever verleent aan Obvion en haar rechtsopvolgers hypotheek- en \\n\\npandrechten.', 'Recht van hypotheek:\\n\\nAls zekerheid dat u de geldlening terugbetaalt aan Obvion, geeft de hypotheekgever aan \\n\\nObvion het recht van hypotheek op een onderpand.', 'Dat houdt onder meer in: Obvion mag het \\n\\nonderpand verkopen als u uw verplichtingen niet nakomt.', 'Hypotheekakte:\\n\\nDe notariële akte waarin de hypotheekgever aan Obvion Hypotheek en pandrechten op het \\n\\nonderpand verleent.', 'Hypotheeksoort:\\n\\nHet type geldlening.', 'Obvion heeft de Obvion Woon Hypotheek, de Obvion Hypotheek, de \\n\\nObvion Basis Hypotheek en de Obvion Compact Hypotheek.', 'Hypotheekvorm:\\n\\nDe manier waarop u de geldlening of het leningdeel terugbetaalt aan Obvion.', 'Bijvoorbeeld de \\n\\nAnnuïteitenhypotheek.', '7PC\\nA\\nV\\n1\\n3\\n5\\n_\\n2\\n1\\n0\\n3\\n\\nGeldlening:\\n\\nHet totale bedrag dat Obvion aan u leent of heeft geleend.', 'Akte van geldlening:\\n\\nDe documenten waarin de geldlening is vastgelegd.', 'Zoals het bindend aanbod, de hypotheek-\\n\\nakte en deze Algemene Voorwaarden.', 'Pandrecht:\\n\\nAls zekerheid dat u de geldlening terugbetaalt aan Obvion, geeft u een pandrecht aan Obvion.', 'Bijvoorbeeld op verzekeringen, (bank)spaarrekeningen of andere zaken.', 'Het pandrecht houdt \\n\\nin dat Obvion het verpande goed mag innen of verkopen als u uw verplichtingen niet nakomt.', 'Registergoed:\\n\\nEen goed dat volgens de wet moet worden ingeschreven in een register.', 'Bijvoorbeeld een \\n\\nwoning, die wordt ingeschreven in het Kadaster.', 'Door inschrijving kan iedereen zien van wie de \\n\\nwoning is.', 'En of er bijvoorbeeld een recht van hypotheek op rust.', 'Onderpand: \\n\\nHet registergoed of de registergoederen waarop het recht van hypotheek is verleend aan \\n\\nObvion en de goederen die aan Obvion zijn verpand.', 'Oorspronkelijke hoofdsom:\\n\\nTotale schuld bij het aangaan van de geldlening exclusief overbruggingskrediet.', 'Herbouwwaarde:\\n\\nHet bedrag dat nodig is om uw woning, op dezelfde plaats, met dezelfde grootte en dezelfde \\n\\nbestemming, opnieuw te bouwen.', 'Herbouwwaarde wordt alleen opgegeven bij huizen, niet \\n\\nvoor appartementen.', 'Leningdeel:\\n\\nDe geldlening bestaat uit één of meer leningdelen.', 'Deze zijn benoemd in het bindend aanbod.', 'Voor elk leningdeel kunnen aparte voorwaarden gelden.', 'Schuld:\\n\\nHet gedeelte van de geldlening dat nog niet is terugbetaald.', 'Rentevaste periode:\\n\\nEen met u afgesproken periode waarin Obvion de voor een leningdeel geldende rente niet zal \\n\\nwijzigen op voorwaarde dat de tariefgroep, de hypotheekvorm en/of hypotheeksoort niet \\n\\nwijzigen.', 'Tariefgroep: \\n\\nDe tariefgroep is afhankelijk van onder andere de verhouding tussen de hypotheekschuld en de \\n\\nmarktwaarde van het onderpand.', 'Op basis van de tariefgroep wordt onder meer de hoogte van \\n\\nde individuele tariefopslag bepaald.', 'Heeft u leningdelen waarvan de rentevaste periode is ingegaan voor 24 april 2017?', 'Dan geldt  \\n\\nvoor deze leningdelen tot het einde van de rentevaste periode de verhouding tussen de hypo-\\n\\ntheek schuld en de executiewaarde* van de woning.', '8PC\\nA\\nV\\n1\\n3\\n5\\n_\\n2\\n1\\n0\\n3\\n\\n*Bij taxaties met een waardepeildatum vanaf 1 januari 2013 hanteert Obvion als executie-\\n\\nwaarde 90% van de getaxeerde marktwaarde.', 'Schuldrest:\\n\\nUw openstaande, nog niet afgeloste, schuld, exclusief overbruggingskrediet.', 'Tussenpersoon:\\n\\nDe natuurlijke persoon of rechtspersoon die in de uitoefening van een beroep of bedrijf \\n\\nbemiddelt.', 'Extra terugbetaling:\\n\\nEen extra terugbetaling is een gehele of gedeeltelijke terugbetaling van uw geldlening.', 'Hiertoe \\n\\nbent u niet verplicht op grond van de afgesproken terugbetaalverplichtingen die horen bij uw \\n\\nhypotheekvorm.', 'Vergoeding:\\n\\nHet renteverschil dat u mogelijk verschuldigd bent aan Obvion wanneer u een wijziging van de \\n\\nleningvoorwaarden wilt doorvoeren of extra terugbetaalt.', 'Vergoeding wordt soms ook wel \\n\\nboete genoemd.']\n"
     ]
    }
   ],
   "source": [
    "file = 'Basis-Hypotheek-Alg-voorwaarden-03-2021.pdf' #location of file\n",
    "createArticleDict(file)"
   ]
  },
  {
   "cell_type": "code",
   "execution_count": null,
   "id": "bf9179f0-6f89-4b6d-81cc-843c1d9eda83",
   "metadata": {},
   "outputs": [],
   "source": []
  }
 ],
 "metadata": {
  "kernelspec": {
   "display_name": "Python 3 (ipykernel)",
   "language": "python",
   "name": "python3"
  },
  "language_info": {
   "codemirror_mode": {
    "name": "ipython",
    "version": 3
   },
   "file_extension": ".py",
   "mimetype": "text/x-python",
   "name": "python",
   "nbconvert_exporter": "python",
   "pygments_lexer": "ipython3",
   "version": "3.8.12"
  }
 },
 "nbformat": 4,
 "nbformat_minor": 5
}
