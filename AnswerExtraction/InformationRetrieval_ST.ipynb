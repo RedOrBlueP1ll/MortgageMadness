{
  "cells": [
    {
      "cell_type": "code",
      "execution_count": 1,
      "metadata": {
        "id": "qbyiTgH6OofC"
      },
      "outputs": [],
      "source": [
        "import numpy as np\n",
        "import nltk\n",
        "import re\n",
        "import pandas as pd\n",
        "from sklearn.feature_extraction.text import TfidfVectorizer \n",
        "import heapq\n",
        "\n",
        "import csv\n"
      ]
    },
    {
      "cell_type": "code",
      "execution_count": 2,
      "metadata": {
        "id": "PDvPxp7fOofE"
      },
      "outputs": [],
      "source": [
        "import gensim\n",
        "from gensim.parsing.preprocessing import remove_stopwords\n",
        "from gensim import corpora"
      ]
    },
    {
      "cell_type": "code",
      "execution_count": 3,
      "metadata": {
        "id": "VrpBTziSOofG"
      },
      "outputs": [],
      "source": [
        "import math"
      ]
    },
    {
      "cell_type": "code",
      "execution_count": 4,
      "metadata": {
        "colab": {
          "base_uri": "https://localhost:8080/"
        },
        "id": "W0DZGhgqOofH",
        "outputId": "d6b498e9-d618-4c82-cae1-71c8f4f639a2"
      },
      "outputs": [
        {
          "output_type": "stream",
          "name": "stdout",
          "text": [
            "[nltk_data] Downloading package stopwords to /root/nltk_data...\n",
            "[nltk_data]   Unzipping corpora/stopwords.zip.\n"
          ]
        }
      ],
      "source": [
        "\n",
        "nltk.download('stopwords')\n",
        "from nltk.corpus import stopwords\n",
        "from nltk.tokenize import word_tokenize\n",
        "stop_words = stopwords.words('english')"
      ]
    },
    {
      "cell_type": "code",
      "execution_count": null,
      "metadata": {
        "id": "djb5OdfjOofJ"
      },
      "outputs": [],
      "source": [
        "Question=\"collateral\"\n",
        "file = open('Obligations of the mortgager.pdf','rb')"
      ]
    },
    {
      "cell_type": "code",
      "execution_count": null,
      "metadata": {
        "id": "8-PBMRx0OofK"
      },
      "outputs": [],
      "source": [
        "file = open('Obligations of the mortgager.pdf','rb')\n",
        "PDF_read = PdfFileReader(file)\n",
        "txt=\"\"\n",
        "for i in range(PDF_read.numPages):\n",
        "    page_temp = PDF_read.getPage(i)\n",
        "    page_String= page_temp.extractText()\n",
        "    txt=txt+ page_String\n",
        "    \n"
      ]
    },
    {
      "cell_type": "code",
      "execution_count": 5,
      "metadata": {
        "colab": {
          "base_uri": "https://localhost:8080/"
        },
        "id": "PoAzwMtuOofL",
        "outputId": "3f212b57-7e5d-4620-ffe0-c5e6c5b556d5"
      },
      "outputs": [
        {
          "output_type": "stream",
          "name": "stdout",
          "text": [
            "[nltk_data] Downloading package punkt to /root/nltk_data...\n",
            "[nltk_data]   Unzipping tokenizers/punkt.zip.\n"
          ]
        },
        {
          "output_type": "execute_result",
          "data": {
            "text/plain": [
              "True"
            ]
          },
          "metadata": {},
          "execution_count": 5
        }
      ],
      "source": [
        "nltk.download('punkt')"
      ]
    },
    {
      "cell_type": "code",
      "execution_count": null,
      "metadata": {
        "id": "m5ldwV7lOofM"
      },
      "outputs": [],
      "source": [
        "\n",
        "   \n",
        "tokens = nltk.sent_tokenize(txt) \n",
        "tokens = tokens\n",
        "tfidfvectoriser=TfidfVectorizer()"
      ]
    },
    {
      "cell_type": "code",
      "source": [
        "article_df= pd.read_csv(\"cl_art_ten_dim384_clus35.csv\",index_col=[0])\n",
        "centroid_df= pd.read_csv(\"centroids_dim384_clus35.csv\", index_col=[0])\n",
        "sentence_df= pd.read_csv(\"setences_text_384.csv\",index_col=[0])"
      ],
      "metadata": {
        "id": "p-RyBB2fPNEH"
      },
      "execution_count": 74,
      "outputs": []
    },
    {
      "cell_type": "code",
      "source": [
        "query_df=pd.read_csv(\"query.csv\")"
      ],
      "metadata": {
        "id": "PVkxX0FlhToD"
      },
      "execution_count": 7,
      "outputs": []
    },
    {
      "cell_type": "code",
      "source": [
        "query_df.columns=['Dimension', 'Value']"
      ],
      "metadata": {
        "id": "3X6ZhZ_kgHgy"
      },
      "execution_count": 8,
      "outputs": []
    },
    {
      "cell_type": "code",
      "source": [
        "query_tensor=query_df['Value'].to_numpy()\n"
      ],
      "metadata": {
        "id": "QqenIxlIjB4c"
      },
      "execution_count": 9,
      "outputs": []
    },
    {
      "cell_type": "code",
      "execution_count": null,
      "metadata": {
        "id": "tcWO6DLtOofN"
      },
      "outputs": [],
      "source": [
        "\n",
        "def clean_sentence(sentence, stopwords=False):\n",
        "    word_tokens = word_tokenize(sentence)\n",
        " \n",
        "    filtered_sentence = [w for w in word_tokens if not w.lower() in stop_words]\n",
        "        \n",
        "    filtered_sentence = \"\"\n",
        "        \n",
        "    for w in word_tokens:\n",
        "        if w not in stop_words:\n",
        "            filtered_sentence=filtered_sentence+w\n",
        "\n",
        "    return filtered_sentence"
      ]
    },
    {
      "cell_type": "code",
      "execution_count": null,
      "metadata": {
        "id": "mhep_OdvOofP"
      },
      "outputs": [],
      "source": [
        "def get_cleaned_sentences(tokens, stopwords=False):\n",
        "\n",
        "    cleaned_sentences = []\n",
        "    for line in tokens:\n",
        "      cleaned = clean_sentence(line, stopwords)\n",
        "      cleaned_sentences.append(cleaned)\n",
        "\n",
        "    return cleaned_sentences"
      ]
    },
    {
      "cell_type": "code",
      "execution_count": null,
      "metadata": {
        "id": "62rFtB9rOofQ"
      },
      "outputs": [],
      "source": [
        "   \n",
        "def cleanall(tokens):\n",
        "                cleaned_sentences = get_cleaned_sentences(tokens, stopwords=True)\n",
        "                cleaned_sentences_with_stopwords = get_cleaned_sentences(tokens, stopwords=False)\n",
        "                # print(cleaned_sentences)\n",
        "                # print(cleaned_sentences_with_stopwords)\n",
        "                return [cleaned_sentences,cleaned_sentences_with_stopwords]"
      ]
    },
    {
      "cell_type": "code",
      "execution_count": null,
      "metadata": {
        "id": "CR11LK6SOofQ"
      },
      "outputs": [],
      "source": [
        "cleaned_sentences, cleaned_sentences_with_stopwords=cleanall(tokens)\n",
        "sentences = cleaned_sentences\n",
        "sentence_words = [[word for word in document.split()]\n",
        "                    for document in sentences]\n",
        "dictionary = corpora.Dictionary(sentence_words)\n",
        "    # for key, value in dictionary.items():\n",
        "    #     print(key, ' : ', value)\n",
        "corpus = [dictionary.doc2bow(text) for text in sentence_words]\n",
        "for sent, embedding in zip(sentences, corpus):\n",
        "    print(sent)\n",
        "    print(embedding)"
      ]
    },
    {
      "cell_type": "code",
      "execution_count": 10,
      "metadata": {
        "id": "fCuEWyP1OofR"
      },
      "outputs": [],
      "source": [
        "   \n",
        "def TFIDF(cleaned_sentences):\n",
        "                tfidfvectoriser.fit(cleaned_sentences)\n",
        "                tfidf_vectors=tfidfvectoriser.transform(cleaned_sentences)\n",
        "                return tfidf_vectors"
      ]
    },
    {
      "cell_type": "code",
      "execution_count": 11,
      "metadata": {
        "id": "XXrP_CCoOofS"
      },
      "outputs": [],
      "source": [
        "    \n",
        "def TFIDF_Q(question_to_be_cleaned):\n",
        "                tfidf_vectors=tfidfvectoriser.transform([question_to_be_cleaned])\n",
        "                return tfidf_vectors"
      ]
    },
    {
      "cell_type": "code",
      "execution_count": 12,
      "metadata": {
        "id": "Sn6R7DNwOofT"
      },
      "outputs": [],
      "source": [
        "\n",
        "def doall(tokens):\n",
        "                cleaned_sentences, cleaned_sentences_with_stopwords = cleanall(tokens)\n",
        "                tfidf = TFIDF(cleaned_sentences)\n",
        "                return [cleaned_sentences,cleaned_sentences_with_stopwords,tfidf]"
      ]
    },
    {
      "cell_type": "code",
      "execution_count": 13,
      "metadata": {
        "id": "CS5X_Oz_OofT"
      },
      "outputs": [],
      "source": [
        "\n",
        "    #cosine similarity\n",
        "def Cosine(question_vector, sentence_vector):\n",
        "        dot_product = np.dot(question_vector, sentence_vector.T)\n",
        "        denominator = (np.linalg.norm(question_vector) * np.linalg.norm(sentence_vector))\n",
        "        return dot_product/denominator"
      ]
    },
    {
      "cell_type": "code",
      "execution_count": 42,
      "metadata": {
        "id": "cIlEjCzFOofU"
      },
      "outputs": [],
      "source": [
        "\n",
        "def Euclidean(question_vector, sentence_vector):\n",
        "                vec1 = question_vector.copy()\n",
        "                vec2 = sentence_vector.copy()\n",
        "                if len(vec1)<len(vec2): vec1,vec2 = vec2,vec1\n",
        "                vec2 = np.resize(vec2,(vec1.shape[0]))\n",
        "                return np.linalg.norm(vec1-vec2)"
      ]
    },
    {
      "cell_type": "code",
      "execution_count": 15,
      "metadata": {
        "id": "qgxY6UXOOofU"
      },
      "outputs": [],
      "source": [
        "def Theta(question_vector, sentence_vector):\n",
        "        return np.arccos(Cosine(question_vector, sentence_vector)) + np.radians(10)"
      ]
    },
    {
      "cell_type": "code",
      "execution_count": 16,
      "metadata": {
        "id": "Jz1De6kZOofV"
      },
      "outputs": [],
      "source": [
        "def Triangle(question_vector, sentence_vector):\n",
        "        theta = np.radians(Theta(question_vector, sentence_vector))\n",
        "        return ((np.linalg.norm(question_vector) * np.linalg.norm(sentence_vector)) * np.sin(theta))/2"
      ]
    },
    {
      "cell_type": "code",
      "execution_count": 17,
      "metadata": {
        "id": "Snb1qDJZOofV"
      },
      "outputs": [],
      "source": [
        "def Magnitude_Difference(vec1, vec2):\n",
        "        return abs((np.linalg.norm(vec1) - np.linalg.norm(vec2)))"
      ]
    },
    {
      "cell_type": "code",
      "execution_count": 18,
      "metadata": {
        "id": "b3RA8g45OofW"
      },
      "outputs": [],
      "source": [
        "def Sector(question_vector, sentence_vector):\n",
        "        ED = Euclidean(question_vector, sentence_vector)\n",
        "        MD = Magnitude_Difference(question_vector, sentence_vector)\n",
        "        theta = Theta(question_vector, sentence_vector)\n",
        "        return math.pi * (ED + MD)**2 * theta/360"
      ]
    },
    {
      "cell_type": "code",
      "execution_count": 19,
      "metadata": {
        "id": "RL575PhvOofW"
      },
      "outputs": [],
      "source": [
        " \n",
        "def answer(question_vector, sentence_vector, method):\n",
        "                if method==1: return Euclidean(question_vector,sentence_vector)\n",
        "                else: return Cosine(question_vector,sentence_vector)"
      ]
    },
    {
      "cell_type": "code",
      "source": [
        "def TSSS_answer(question_vector, sentence_vector,method):\n",
        "        if method==1: return Euclidean(question_vector, sentence_vector)\n",
        "        elif method==2: return Cosine(question_vector, sentence_vector)\n",
        "        else: return Triangle(question_vector, sentence_vector) * Sector(question_vector, sentence_vector)"
      ],
      "metadata": {
        "id": "zpSutLVyL5U2"
      },
      "execution_count": 27,
      "outputs": []
    },
    {
      "cell_type": "code",
      "execution_count": 31,
      "metadata": {
        "id": "TJFRd-ZuOofX"
      },
      "outputs": [],
      "source": [
        "\n",
        "def RetrieveAnswer(question_embedding, centroid_df,method):\n",
        "  similarity_heap = []\n",
        "  if method==1: \n",
        "    max_similarity = float('inf')\n",
        "  else: max_similarity = -1\n",
        "  index_similarity = -1\n",
        "\n",
        "  for i in range (len(centroid_df)):\n",
        "    similarity = TSSS_answer((question_embedding),(centroid_df.iloc[i]).to_numpy() , method).mean()\n",
        "    if method==1:\n",
        "      heapq.heappush(similarity_heap,(similarity,i))\n",
        "    else:\n",
        "      heapq.heappush(similarity_heap,(-similarity,i))\n",
        "  return similarity_heap\n",
        "  #for index, embedding in enumerate(centroid_df):  \n",
        "    \n",
        "   # similarity = answer((question_embedding).toarray(),(embedding).toarray() , method).mean()\n",
        "    #if method==1:\n",
        "    #  heapq.heappush(similarity_heap,(similarity,index))\n",
        "    #else:\n",
        "     # heapq.heappush(similarity_heap,(-similarity,index))\n",
        "  #return similarity_heap\n"
      ]
    },
    {
      "cell_type": "code",
      "execution_count": 57,
      "metadata": {
        "id": "NkI8Ua-UOofY"
      },
      "outputs": [],
      "source": [
        "method = 3\n",
        "\n",
        "#cleaned_sentences,cleaned_sentences_with_stopwords,tfidf_vectors = doall(tokens)\n",
        "\n",
        "#question = clean_sentence(Question, stopwords=True)\n",
        "#question_embedding = TFIDF_Q(question)\n",
        "question_embedding= query_tensor\n",
        "\n",
        "similarity_heap = RetrieveAnswer(question_embedding , centroid_df ,method)\n",
        "#print(\"Question: \", Question)\n",
        "cluster_list=[]\n",
        "number_of_sentences_to_print = 5\n",
        "while number_of_sentences_to_print>0 and len(similarity_heap)>0:\n",
        "  x = similarity_heap.pop(1)\n",
        "  #print(cleaned_sentences_with_stopwords[x[1]])\n",
        "  cluster_list.append(x[1])\n",
        "\n",
        "\n",
        "\n",
        "  number_of_sentences_to_print-=1"
      ]
    },
    {
      "cell_type": "code",
      "source": [
        "cluster_list"
      ],
      "metadata": {
        "colab": {
          "base_uri": "https://localhost:8080/"
        },
        "id": "sF2U6AC8REzc",
        "outputId": "1cb0341c-3dbd-4ca7-a7de-0602e579cf40"
      },
      "execution_count": 58,
      "outputs": [
        {
          "output_type": "execute_result",
          "data": {
            "text/plain": [
              "[29, 16, 19, 0, 12]"
            ]
          },
          "metadata": {},
          "execution_count": 58
        }
      ]
    },
    {
      "cell_type": "code",
      "execution_count": 70,
      "metadata": {
        "id": "p-ctSOSsOofY"
      },
      "outputs": [],
      "source": [
        "search_space = article_df[article_df['cluster'].isin(cluster_list)]"
      ]
    },
    {
      "cell_type": "code",
      "source": [
        "search_space.drop(['cluster','article'],axis=1,inplace=True)"
      ],
      "metadata": {
        "colab": {
          "base_uri": "https://localhost:8080/"
        },
        "id": "hgMIAOSCR9ML",
        "outputId": "60b6b5bb-2ab5-405e-b39a-9e3c3d811030"
      },
      "execution_count": 71,
      "outputs": [
        {
          "output_type": "stream",
          "name": "stderr",
          "text": [
            "/usr/local/lib/python3.7/dist-packages/pandas/core/frame.py:4174: SettingWithCopyWarning: \n",
            "A value is trying to be set on a copy of a slice from a DataFrame\n",
            "\n",
            "See the caveats in the documentation: https://pandas.pydata.org/pandas-docs/stable/user_guide/indexing.html#returning-a-view-versus-a-copy\n",
            "  errors=errors,\n"
          ]
        }
      ]
    },
    {
      "cell_type": "code",
      "source": [
        "sentence_df.head()"
      ],
      "metadata": {
        "colab": {
          "base_uri": "https://localhost:8080/",
          "height": 206
        },
        "id": "_x-t61QESowJ",
        "outputId": "ce6272ed-81b0-4b48-e41e-fef42eddf5cc"
      },
      "execution_count": 75,
      "outputs": [
        {
          "output_type": "execute_result",
          "data": {
            "text/html": [
              "\n",
              "  <div id=\"df-4ffa0686-3b4b-4cee-8c06-d39a66594184\">\n",
              "    <div class=\"colab-df-container\">\n",
              "      <div>\n",
              "<style scoped>\n",
              "    .dataframe tbody tr th:only-of-type {\n",
              "        vertical-align: middle;\n",
              "    }\n",
              "\n",
              "    .dataframe tbody tr th {\n",
              "        vertical-align: top;\n",
              "    }\n",
              "\n",
              "    .dataframe thead th {\n",
              "        text-align: right;\n",
              "    }\n",
              "</style>\n",
              "<table border=\"1\" class=\"dataframe\">\n",
              "  <thead>\n",
              "    <tr style=\"text-align: right;\">\n",
              "      <th></th>\n",
              "      <th>sentence</th>\n",
              "    </tr>\n",
              "  </thead>\n",
              "  <tbody>\n",
              "    <tr>\n",
              "      <th>0</th>\n",
              "      <td>We use certain terms in the mortgage deed and ...</td>\n",
              "    </tr>\n",
              "    <tr>\n",
              "      <th>1</th>\n",
              "      <td>Here we explain what we mean by it.</td>\n",
              "    </tr>\n",
              "    <tr>\n",
              "      <th>2</th>\n",
              "      <td>Obvion: Obvion N.V., the lender that provides ...</td>\n",
              "    </tr>\n",
              "    <tr>\n",
              "      <th>3</th>\n",
              "      <td>In these terms and conditions, “you” always re...</td>\n",
              "    </tr>\n",
              "    <tr>\n",
              "      <th>4</th>\n",
              "      <td>Is that more people?</td>\n",
              "    </tr>\n",
              "  </tbody>\n",
              "</table>\n",
              "</div>\n",
              "      <button class=\"colab-df-convert\" onclick=\"convertToInteractive('df-4ffa0686-3b4b-4cee-8c06-d39a66594184')\"\n",
              "              title=\"Convert this dataframe to an interactive table.\"\n",
              "              style=\"display:none;\">\n",
              "        \n",
              "  <svg xmlns=\"http://www.w3.org/2000/svg\" height=\"24px\"viewBox=\"0 0 24 24\"\n",
              "       width=\"24px\">\n",
              "    <path d=\"M0 0h24v24H0V0z\" fill=\"none\"/>\n",
              "    <path d=\"M18.56 5.44l.94 2.06.94-2.06 2.06-.94-2.06-.94-.94-2.06-.94 2.06-2.06.94zm-11 1L8.5 8.5l.94-2.06 2.06-.94-2.06-.94L8.5 2.5l-.94 2.06-2.06.94zm10 10l.94 2.06.94-2.06 2.06-.94-2.06-.94-.94-2.06-.94 2.06-2.06.94z\"/><path d=\"M17.41 7.96l-1.37-1.37c-.4-.4-.92-.59-1.43-.59-.52 0-1.04.2-1.43.59L10.3 9.45l-7.72 7.72c-.78.78-.78 2.05 0 2.83L4 21.41c.39.39.9.59 1.41.59.51 0 1.02-.2 1.41-.59l7.78-7.78 2.81-2.81c.8-.78.8-2.07 0-2.86zM5.41 20L4 18.59l7.72-7.72 1.47 1.35L5.41 20z\"/>\n",
              "  </svg>\n",
              "      </button>\n",
              "      \n",
              "  <style>\n",
              "    .colab-df-container {\n",
              "      display:flex;\n",
              "      flex-wrap:wrap;\n",
              "      gap: 12px;\n",
              "    }\n",
              "\n",
              "    .colab-df-convert {\n",
              "      background-color: #E8F0FE;\n",
              "      border: none;\n",
              "      border-radius: 50%;\n",
              "      cursor: pointer;\n",
              "      display: none;\n",
              "      fill: #1967D2;\n",
              "      height: 32px;\n",
              "      padding: 0 0 0 0;\n",
              "      width: 32px;\n",
              "    }\n",
              "\n",
              "    .colab-df-convert:hover {\n",
              "      background-color: #E2EBFA;\n",
              "      box-shadow: 0px 1px 2px rgba(60, 64, 67, 0.3), 0px 1px 3px 1px rgba(60, 64, 67, 0.15);\n",
              "      fill: #174EA6;\n",
              "    }\n",
              "\n",
              "    [theme=dark] .colab-df-convert {\n",
              "      background-color: #3B4455;\n",
              "      fill: #D2E3FC;\n",
              "    }\n",
              "\n",
              "    [theme=dark] .colab-df-convert:hover {\n",
              "      background-color: #434B5C;\n",
              "      box-shadow: 0px 1px 3px 1px rgba(0, 0, 0, 0.15);\n",
              "      filter: drop-shadow(0px 1px 2px rgba(0, 0, 0, 0.3));\n",
              "      fill: #FFFFFF;\n",
              "    }\n",
              "  </style>\n",
              "\n",
              "      <script>\n",
              "        const buttonEl =\n",
              "          document.querySelector('#df-4ffa0686-3b4b-4cee-8c06-d39a66594184 button.colab-df-convert');\n",
              "        buttonEl.style.display =\n",
              "          google.colab.kernel.accessAllowed ? 'block' : 'none';\n",
              "\n",
              "        async function convertToInteractive(key) {\n",
              "          const element = document.querySelector('#df-4ffa0686-3b4b-4cee-8c06-d39a66594184');\n",
              "          const dataTable =\n",
              "            await google.colab.kernel.invokeFunction('convertToInteractive',\n",
              "                                                     [key], {});\n",
              "          if (!dataTable) return;\n",
              "\n",
              "          const docLinkHtml = 'Like what you see? Visit the ' +\n",
              "            '<a target=\"_blank\" href=https://colab.research.google.com/notebooks/data_table.ipynb>data table notebook</a>'\n",
              "            + ' to learn more about interactive tables.';\n",
              "          element.innerHTML = '';\n",
              "          dataTable['output_type'] = 'display_data';\n",
              "          await google.colab.output.renderOutput(dataTable, element);\n",
              "          const docLink = document.createElement('div');\n",
              "          docLink.innerHTML = docLinkHtml;\n",
              "          element.appendChild(docLink);\n",
              "        }\n",
              "      </script>\n",
              "    </div>\n",
              "  </div>\n",
              "  "
            ],
            "text/plain": [
              "                                            sentence\n",
              "0  We use certain terms in the mortgage deed and ...\n",
              "1                Here we explain what we mean by it.\n",
              "2  Obvion: Obvion N.V., the lender that provides ...\n",
              "3  In these terms and conditions, “you” always re...\n",
              "4                               Is that more people?"
            ]
          },
          "metadata": {},
          "execution_count": 75
        }
      ]
    },
    {
      "cell_type": "markdown",
      "source": [
        ""
      ],
      "metadata": {
        "id": "vrcao_82RrNs"
      }
    },
    {
      "cell_type": "code",
      "source": [
        "similarity_heap_answer = RetrieveAnswer(question_embedding , search_space ,method=3)"
      ],
      "metadata": {
        "id": "2AmQUMiWRnmd"
      },
      "execution_count": 73,
      "outputs": []
    },
    {
      "cell_type": "code",
      "source": [
        "number_of_sentences_to_print = 5\n",
        "while number_of_sentences_to_print>0 and len(similarity_heap_answer)>0:\n",
        "  x = similarity_heap.pop(1)\n",
        "  print(sentence_df.iloc[x[1]])\n",
        "  \n",
        "\n",
        "\n",
        "\n",
        "  number_of_sentences_to_print-=1"
      ],
      "metadata": {
        "colab": {
          "base_uri": "https://localhost:8080/"
        },
        "id": "Rg6D1Nc8O7v5",
        "outputId": "b0cc178e-b5ca-413f-855d-38b06b5cfcc6"
      },
      "execution_count": 76,
      "outputs": [
        {
          "output_type": "stream",
          "name": "stdout",
          "text": [
            "sentence    Mortgage lender: The person or persons who giv...\n",
            "Name: 6, dtype: object\n",
            "sentence    This means, among other things: Obvion is allo...\n",
            "Name: 15, dtype: object\n",
            "sentence    Obvion has the Obvion Residential Mortgage, th...\n",
            "Name: 18, dtype: object\n",
            "sentence    For example the annuity mortgage.\n",
            "Name: 20, dtype: object\n",
            "sentence    Deed of loan:\n",
            "Name: 22, dtype: object\n"
          ]
        }
      ]
    },
    {
      "cell_type": "code",
      "source": [
        "centroid_df.rename(columns= {1: 'Cluster'},inplace=True)"
      ],
      "metadata": {
        "id": "tvqSH5XllWPK"
      },
      "execution_count": 52,
      "outputs": []
    },
    {
      "cell_type": "code",
      "source": [
        "centroid_df.iloc[0].to_numpy"
      ],
      "metadata": {
        "colab": {
          "base_uri": "https://localhost:8080/"
        },
        "id": "iG726MKXlqeC",
        "outputId": "f296ada3-f715-45b3-aa9f-52cd020cb4f7"
      },
      "execution_count": 38,
      "outputs": [
        {
          "output_type": "execute_result",
          "data": {
            "text/plain": [
              "<bound method IndexOpsMixin.to_numpy of 0     -1.465602\n",
              "1     -0.363500\n",
              "2      1.058877\n",
              "3     -0.613788\n",
              "4      1.409080\n",
              "         ...   \n",
              "379   -1.209984\n",
              "380   -0.435533\n",
              "381   -0.914766\n",
              "382   -0.131569\n",
              "383   -0.724329\n",
              "Name: 0, Length: 384, dtype: float64>"
            ]
          },
          "metadata": {},
          "execution_count": 38
        }
      ]
    },
    {
      "cell_type": "code",
      "source": [
        "centroid_df.iloc[34]"
      ],
      "metadata": {
        "colab": {
          "base_uri": "https://localhost:8080/"
        },
        "id": "3_CxJ8hJm0uO",
        "outputId": "03220bd5-524e-4513-e1a6-85b0e392f0ba"
      },
      "execution_count": 69,
      "outputs": [
        {
          "output_type": "execute_result",
          "data": {
            "text/plain": [
              "0      0.259726\n",
              "1      0.837227\n",
              "2     -0.278507\n",
              "3     -0.756798\n",
              "4      0.709814\n",
              "         ...   \n",
              "379   -2.178623\n",
              "380    1.010109\n",
              "381    0.901775\n",
              "382   -1.853763\n",
              "383   -1.407049\n",
              "Name: 34, Length: 384, dtype: float64"
            ]
          },
          "metadata": {},
          "execution_count": 69
        }
      ]
    },
    {
      "cell_type": "code",
      "source": [
        ""
      ],
      "metadata": {
        "id": "UflmU4Pvnvp6"
      },
      "execution_count": null,
      "outputs": []
    }
  ],
  "metadata": {
    "interpreter": {
      "hash": "6872ab502465b5b1b036383ff6234d663873b4cf29f739e7a154b72d42b1b52a"
    },
    "kernelspec": {
      "display_name": "Python 3.7.3 64-bit ('tensorflow': conda)",
      "language": "python",
      "name": "python3"
    },
    "language_info": {
      "codemirror_mode": {
        "name": "ipython",
        "version": 3
      },
      "file_extension": ".py",
      "mimetype": "text/x-python",
      "name": "python",
      "nbconvert_exporter": "python",
      "pygments_lexer": "ipython3",
      "version": "3.7.11"
    },
    "orig_nbformat": 4,
    "colab": {
      "name": "InformationRetrieval.ipynb",
      "provenance": [],
      "collapsed_sections": []
    }
  },
  "nbformat": 4,
  "nbformat_minor": 0
}